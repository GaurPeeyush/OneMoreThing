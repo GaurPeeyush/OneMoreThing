{
 "cells": [
  {
   "cell_type": "code",
   "execution_count": null,
   "id": "0837f33b",
   "metadata": {},
   "outputs": [],
   "source": [
    "import numpy as np\n",
    "import matplotlib.pyplot as plt\n",
    "from matplotlib.animation import FuncAnimation\n",
    "import time"
   ]
  },
  {
   "cell_type": "code",
   "execution_count": null,
   "id": "8d871c4f",
   "metadata": {},
   "outputs": [],
   "source": [
    "# Define the Particle class\n",
    "class Particle:\n",
    "    def _init_(self, position, velocity, mass, radius):\n",
    "        self.position = position\n",
    "        self.velocity = velocity\n",
    "        self.mass = mass\n",
    "        self.radius = radius"
   ]
  },
  {
   "cell_type": "code",
   "execution_count": null,
   "id": "b047d5bd",
   "metadata": {},
   "outputs": [],
   "source": [
    "# Compute the gravitational force between two particles\n",
    "def compute_gravitational_force(p1, p2, G):\n",
    "    r = p2.position - p1.position\n",
    "    distance = np.linalg.norm(r)\n",
    "    force_magnitude = G * p1.mass * p2.mass / distance**2\n",
    "    force_direction = r / distance\n",
    "    return force_magnitude * force_direction"
   ]
  },
  {
   "cell_type": "code",
   "execution_count": null,
   "id": "a54d1979",
   "metadata": {},
   "outputs": [],
   "source": [
    "# Update the positions and velocities of all particles based on gravitational forces\n",
    "def update_positions_and_velocities(particles, dt, G):\n",
    "    for p1 in particles:\n",
    "        force = np.zeros(2)\n",
    "        for p2 in particles:\n",
    "            if p1 != p2:\n",
    "                force += compute_gravitational_force(p1, p2, G)\n",
    "        p1.velocity += force / p1.mass * dt\n",
    "        p1.position += p1.velocity * dt"
   ]
  },
  {
   "cell_type": "code",
   "execution_count": null,
   "id": "d6b644be",
   "metadata": {},
   "outputs": [],
   "source": [
    "# Create a list of particles with random positions, velocities, masses, and radii\n",
    "def create_particles(n, box_size):\n",
    "    particles = []\n",
    "    for _ in range(n):\n",
    "        position = np.random.rand(2) * box_size\n",
    "        velocity = np.random.randn(2) * 0.1\n",
    "        mass = np.random.rand() * 5 + 0.5\n",
    "        radius = mass * 0.2\n",
    "        particles.append(Particle(position, velocity, mass, radius))\n",
    "    return particles"
   ]
  },
  {
   "cell_type": "code",
   "execution_count": null,
   "id": "72a2eb0e",
   "metadata": {},
   "outputs": [],
   "source": [
    "# Simulate the movement of particles for the given number of steps\n",
    "def simulate(particles, G, dt, num_steps):\n",
    "    positions = []\n",
    "    for _ in range(num_steps):\n",
    "        update_positions_and_velocities(particles, dt, G)\n",
    "        positions.append([p.position.copy() for p in particles])\n",
    "    return np.array(positions)"
   ]
  },
  {
   "cell_type": "code",
   "execution_count": null,
   "id": "ac7888ac",
   "metadata": {},
   "outputs": [],
   "source": [
    "# Animate the simulation using the particle positions\n",
    "def animate(particles, positions):\n",
    "    fig, ax = plt.subplots()\n",
    "    ax.set_xlim(0, 10)\n",
    "    ax.set_ylim(0, 10)\n",
    "    scatters = [ax.scatter(p.position[0], p.position[1], s=p.radius*100) for p in particles]\n",
    "\n",
    "    def update(frame):\n",
    "        for i, scatter in enumerate(scatters):\n",
    "            scatter.set_offsets(positions[frame, i])\n",
    "\n",
    "    ani = FuncAnimation(fig, update, frames=range(len(positions)), interval=20)\n",
    "    plt.show()"
   ]
  },
  {
   "cell_type": "code",
   "execution_count": null,
   "id": "bbfe63a0",
   "metadata": {},
   "outputs": [],
   "source": [
    "# Main function to run the simulation and animate the results\n",
    "if _name_ == \"_main_\":\n",
    "    np.random.seed(int(time.time()))\n",
    "\n",
    "    n_particles = 10\n",
    "    box_size = 10\n",
    "    G = 1e-4\n",
    "    dt = 0.01\n",
    "    num_steps = 1000\n",
    "\n",
    "    particles = create_particles(n_particles, box_size)\n",
    "    positions = simulate(particles, G, dt, num_steps)\n",
    "    animate(particles, positions)\n"
   ]
  }
 ],
 "metadata": {
  "kernelspec": {
   "display_name": "Python 3 (ipykernel)",
   "language": "python",
   "name": "python3"
  },
  "language_info": {
   "codemirror_mode": {
    "name": "ipython",
    "version": 3
   },
   "file_extension": ".py",
   "mimetype": "text/x-python",
   "name": "python",
   "nbconvert_exporter": "python",
   "pygments_lexer": "ipython3",
   "version": "3.9.13"
  }
 },
 "nbformat": 4,
 "nbformat_minor": 5
}
